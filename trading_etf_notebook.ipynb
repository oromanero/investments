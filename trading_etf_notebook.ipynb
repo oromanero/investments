{
  "cells": [
    {
      "cell_type": "markdown",
      "metadata": {},
      "source": [
        "# 🚀 Trading Cuantitativo con ETFs - Notebook Inicial\n",
        "\n",
        "Este notebook muestra:\n",
        "1. Descarga de datos de ETFs con `yfinance`.\n",
        "2. Cálculo de retornos y métricas básicas.\n",
        "3. Visualización de precios y retornos.\n",
        "4. Backtest simple (Buy & Hold y cruce de medias).\n"
      ]
    },
    {
      "cell_type": "code",
      "execution_count": null,
      "metadata": {},
      "outputs": [],
      "source": [
        "# Instalación de librerías necesarias\n",
        "!pip install yfinance backtrader empyrical"
      ]
    },
    {
      "cell_type": "code",
      "execution_count": null,
      "metadata": {},
      "outputs": [],
      "source": [
        "import yfinance as yf\n",
        "import pandas as pd\n",
        "import numpy as np\n",
        "import matplotlib.pyplot as plt\n",
        "import empyrical as ep\n",
        "import backtrader as bt"
      ]
    },
    {
      "cell_type": "code",
      "execution_count": null,
      "metadata": {},
      "outputs": [],
      "source": [
        "# Descargar datos de ETFs (SPY = S&P 500, TLT = Bonos largo plazo, QQQ = Nasdaq)\n",
        "tickers = [\"SPY\", \"TLT\", \"QQQ\"]\n",
        "data = yf.download(tickers, start=\"2015-01-01\", end=\"2025-01-01\")[\"Adj Close\"]\n",
        "data.head()"
      ]
    },
    {
      "cell_type": "code",
      "execution_count": null,
      "metadata": {},
      "outputs": [],
      "source": [
        "# Calcular rendimientos\n",
        "returns = data.pct_change().dropna()\n",
        "log_returns = (1 + returns).apply(np.log)\n",
        "\n",
        "# Gráfico de precios\n",
        "data.plot(figsize=(12,6), title=\"Precios ETFs (2015-2025)\")\n",
        "plt.show()\n",
        "\n",
        "# Retornos acumulados\n",
        "(1 + returns).cumprod().plot(figsize=(12,6), title=\"Retornos Acumulados\")\n",
        "plt.show()"
      ]
    },
    {
      "cell_type": "code",
      "execution_count": null,
      "metadata": {},
      "outputs": [],
      "source": [
        "# Métricas básicas con empyrical (ejemplo SPY)\n",
        "spy = returns[\"SPY\"]\n",
        "print(\"📊 Métricas SPY:\")\n",
        "print(\"Retorno anualizado:\", ep.annual_return(spy))\n",
        "print(\"Volatilidad anualizada:\", ep.annual_volatility(spy))\n",
        "print(\"Sharpe Ratio:\", ep.sharpe_ratio(spy))\n",
        "print(\"Max Drawdown:\", ep.max_drawdown(spy))"
      ]
    },
    {
      "cell_type": "code",
      "execution_count": null,
      "metadata": {},
      "outputs": [],
      "source": [
        "# Backtest simple: Cruce de medias con Backtrader\n",
        "class SmaCross(bt.Strategy):\n",
        "    params = dict(pfast=20, pslow=50)\n",
        "\n",
        "    def __init__(self):\n",
        "        sma1 = bt.ind.SMA(period=self.p.pfast)\n",
        "        sma2 = bt.ind.SMA(period=self.p.pslow)\n",
        "        self.crossover = bt.ind.CrossOver(sma1, sma2)\n",
        "\n",
        "    def next(self):\n",
        "        if not self.position:\n",
        "            if self.crossover > 0:\n",
        "                self.buy()\n",
        "        elif self.crossover < 0:\n",
        "            self.close()\n",
        "\n",
        "cerebro = bt.Cerebro()\n",
        "cerebro.addstrategy(SmaCross)\n",
        "\n",
        "spy_data = bt.feeds.PandasData(dataname=yf.download(\"SPY\", start=\"2015-01-01\", end=\"2025-01-01\"))\n",
        "cerebro.adddata(spy_data)\n",
        "cerebro.broker.setcash(10000)\n",
        "\n",
        "cerebro.run()\n",
        "cerebro.plot()"
      ]
    }
  ],
  "metadata": {
    "kernelspec": {
      "display_name": "Python 3",
      "language": "python",
      "name": "python3"
    },
    "language_info": {
      "name": "python",
      "version": "3.10"
    }
  },
  "nbformat": 4,
  "nbformat_minor": 5
}